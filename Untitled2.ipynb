{
  "nbformat": 4,
  "nbformat_minor": 0,
  "metadata": {
    "colab": {
      "provenance": [],
      "authorship_tag": "ABX9TyOQcdRofQBCivS2vk+4Lx2R",
      "include_colab_link": true
    },
    "kernelspec": {
      "name": "python3",
      "display_name": "Python 3"
    },
    "language_info": {
      "name": "python"
    }
  },
  "cells": [
    {
      "cell_type": "markdown",
      "metadata": {
        "id": "view-in-github",
        "colab_type": "text"
      },
      "source": [
        "<a href=\"https://colab.research.google.com/github/DesmondBraxton/-D-Arrays-part-2/blob/main/Untitled2.ipynb\" target=\"_parent\"><img src=\"https://colab.research.google.com/assets/colab-badge.svg\" alt=\"Open In Colab\"/></a>"
      ]
    },
    {
      "cell_type": "code",
      "execution_count": null,
      "metadata": {
        "id": "Opo_CLHx7dvq"
      },
      "outputs": [],
      "source": [
        "class·Solution\n",
        "  for i in range(len(nums) - 1):\n",
        "                for j in range(i + 1, len(nums)):\n",
        "                    if nums[i] + nums[j] == target:\n",
        "                        return([i,j])\n",
        "\n",
        "\n",
        "\n"
      ]
    }
  ]
}